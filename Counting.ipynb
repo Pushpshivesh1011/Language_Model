{
  "nbformat": 4,
  "nbformat_minor": 0,
  "metadata": {
    "colab": {
      "provenance": [],
      "authorship_tag": "ABX9TyPkpZe3MR40ZSh4uEMhKInW",
      "include_colab_link": true
    },
    "kernelspec": {
      "name": "python3",
      "display_name": "Python 3"
    },
    "language_info": {
      "name": "python"
    }
  },
  "cells": [
    {
      "cell_type": "markdown",
      "metadata": {
        "id": "view-in-github",
        "colab_type": "text"
      },
      "source": [
        "<a href=\"https://colab.research.google.com/github/Pushpshivesh1011/Language_Model/blob/main/Counting.ipynb\" target=\"_parent\"><img src=\"https://colab.research.google.com/assets/colab-badge.svg\" alt=\"Open In Colab\"/></a>"
      ]
    },
    {
      "cell_type": "code",
      "source": [
        "from google.colab import drive\n",
        "drive.mount('/content/drive')"
      ],
      "metadata": {
        "colab": {
          "base_uri": "https://localhost:8080/"
        },
        "id": "a2Fq5xgMpi1N",
        "outputId": "ac9c0e66-efe4-49d5-9db5-2f29d2fcd634"
      },
      "execution_count": 1,
      "outputs": [
        {
          "output_type": "stream",
          "name": "stdout",
          "text": [
            "Mounted at /content/drive\n"
          ]
        }
      ]
    },
    {
      "cell_type": "code",
      "execution_count": null,
      "metadata": {
        "id": "grXJWJWFpdbp"
      },
      "outputs": [],
      "source": [
        "def get_input_file():\n",
        "  filename = input(\"Enter the name of the .txt file: \")\n",
        "  try:\n",
        "    with open(filename, \"r\") as f:\n",
        "      return f.read()\n",
        "  except FileNotFoundError:\n",
        "    print(\"File not found.\")\n",
        "    return None\n",
        "\n",
        "input_file = get_input_file()\n",
        "\n",
        "if input_file is None:\n",
        "\n",
        "  exit()\n"
      ]
    },
    {
      "cell_type": "code",
      "source": [
        "def count_words_characters_unique_words_characters_sentences(input_file):\n",
        "  total_words = 0\n",
        "  total_characters = 0\n",
        "  for line in input_file.splitlines():\n",
        "    total_words += len(line.split())\n",
        "    total_characters += len(line)\n",
        "\n",
        "  unique_words = set()\n",
        "  unique_characters = set()\n",
        "  for line in input_file.splitlines():\n",
        "    for word in line.split():\n",
        "      unique_words.add(word)\n",
        "    for character in line:\n",
        "      unique_characters.add(character)\n",
        "\n",
        "  total_sentences = 0\n",
        "  for line in input_file.splitlines():\n",
        "    total_sentences += len(line.split(\".\"))\n",
        "\n",
        "  return total_words, total_characters, len(unique_words), len(unique_characters), total_sentences\n",
        "\n",
        "total_words, total_characters, unique_words, unique_characters, total_sentences = count_words_characters_unique_words_characters_sentences(input_file)\n",
        "\n",
        "print(\"Total number of words:\", total_words)\n",
        "print(\"Total number of characters:\", total_characters)\n",
        "print(\"Total number of unique words:\", unique_words)\n",
        "print(\"Total number of unique characters:\", unique_characters)\n",
        "print(\"Total number of sentences:\", total_sentences)\n"
      ],
      "metadata": {
        "id": "hpcFEKpzph7K"
      },
      "execution_count": null,
      "outputs": []
    }
  ]
}